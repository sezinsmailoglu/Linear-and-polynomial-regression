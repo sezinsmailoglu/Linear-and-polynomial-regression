{
 "cells": [
  {
   "cell_type": "code",
   "execution_count": 1,
   "id": "7ef44900",
   "metadata": {},
   "outputs": [],
   "source": [
    "import os\n",
    "import csv\n",
    "import math\n",
    "import numpy as np\n",
    "import matplotlib.pyplot as plt"
   ]
  },
  {
   "cell_type": "code",
   "execution_count": 2,
   "id": "8cad36e8",
   "metadata": {},
   "outputs": [],
   "source": [
    "def get_dataset(filename):\n",
    "     with open(filename, 'r') as csvfile:\n",
    "        lines = csv.reader(csvfile)\n",
    "        next(lines)\n",
    "        dataset = list(lines)\n",
    "        data = np.array([[float(row[col_i]) for col_i in range(0,len(row))] for row in dataset])\n",
    "        #print(data)\n",
    "        return data"
   ]
  },
  {
   "cell_type": "code",
   "execution_count": 3,
   "id": "ddeff26f",
   "metadata": {},
   "outputs": [
    {
     "data": {
      "text/plain": [
       "(506, 13)"
      ]
     },
     "execution_count": 3,
     "metadata": {},
     "output_type": "execute_result"
    }
   ],
   "source": [
    "csv_features = 'question-2-features.csv'\n",
    "features = get_dataset(csv_features)\n",
    "features.shape"
   ]
  },
  {
   "cell_type": "code",
   "execution_count": 4,
   "id": "99af9875",
   "metadata": {},
   "outputs": [
    {
     "data": {
      "text/plain": [
       "(506, 1)"
      ]
     },
     "execution_count": 4,
     "metadata": {},
     "output_type": "execute_result"
    }
   ],
   "source": [
    "csv_labels = 'question-2-labels.csv'\n",
    "labels = get_dataset(csv_labels)\n",
    "labels.shape"
   ]
  },
  {
   "cell_type": "code",
   "execution_count": 5,
   "id": "b6dc2eb0",
   "metadata": {},
   "outputs": [],
   "source": [
    "def calculate_weights(features, labels):\n",
    "    a = np.matmul(features.T,features)\n",
    "    if np.isscalar(a):\n",
    "        weights = np.matmul(1/a*features.T,labels)\n",
    "    else:\n",
    "        weights = np.matmul(np.matmul(np.linalg.inv(a),features.T),labels)\n",
    "    return weights"
   ]
  },
  {
   "cell_type": "code",
   "execution_count": 6,
   "id": "07c5dbc1",
   "metadata": {},
   "outputs": [],
   "source": [
    "def mean_squared_error(predictions, labels):\n",
    "    mse = np.matmul((labels-predictions).T,(labels-predictions))/predictions.shape[0]\n",
    "    return mse"
   ]
  },
  {
   "cell_type": "code",
   "execution_count": 7,
   "id": "d9a97c3d",
   "metadata": {
    "scrolled": true
   },
   "outputs": [
    {
     "data": {
      "text/plain": [
       "13"
      ]
     },
     "execution_count": 7,
     "metadata": {},
     "output_type": "execute_result"
    }
   ],
   "source": [
    "#Q2.2\n",
    "np.linalg.matrix_rank(np.matmul(features.T,features))\n"
   ]
  },
  {
   "cell_type": "code",
   "execution_count": 8,
   "id": "1327a16f",
   "metadata": {},
   "outputs": [
    {
     "data": {
      "text/plain": [
       "array([[1.  , 4.98],\n",
       "       [1.  , 9.14],\n",
       "       [1.  , 4.03],\n",
       "       ...,\n",
       "       [1.  , 5.64],\n",
       "       [1.  , 6.48],\n",
       "       [1.  , 7.88]])"
      ]
     },
     "execution_count": 8,
     "metadata": {},
     "output_type": "execute_result"
    }
   ],
   "source": [
    "#Q2.3\n",
    "LSTAT_features = np.array(features[:,12])\n",
    "aaaa = np.ones((len(LSTAT_features),2))\n",
    "f = np.insert(aaaa,1,LSTAT_features,axis = 1)\n",
    "f =np.delete(f,2,1)\n",
    "f"
   ]
  },
  {
   "cell_type": "code",
   "execution_count": 9,
   "id": "cfaa4498",
   "metadata": {},
   "outputs": [
    {
     "data": {
      "text/plain": [
       "(2, 1)"
      ]
     },
     "execution_count": 9,
     "metadata": {},
     "output_type": "execute_result"
    }
   ],
   "source": [
    "weights = calculate_weights(f,labels)\n",
    "weights.shape"
   ]
  },
  {
   "cell_type": "code",
   "execution_count": 10,
   "id": "f45a329e",
   "metadata": {},
   "outputs": [],
   "source": [
    "x = np.linspace (np.min(features[:,12]), np.max(features[:,12]), len(features[:,12]))\n",
    "y = weights[0] + weights[1]*x"
   ]
  },
  {
   "cell_type": "code",
   "execution_count": 11,
   "id": "292bcdc8",
   "metadata": {},
   "outputs": [
    {
     "data": {
      "image/png": "[encoded data removed]",
      "text/plain": [
       "<Figure size 432x288 with 1 Axes>"
      ]
     },
     "metadata": {
      "needs_background": "light"
     },
     "output_type": "display_data"
    }
   ],
   "source": [
    "plt.plot(x, y, color='#58b970', label='Regression Line')\n",
    "plt.scatter(features[:,12], labels, c='#ef5423', label='data points')\n",
    "plt.xlabel('LSTAT')\n",
    "plt.ylabel('Prices in boston')\n",
    "plt.legend()\n",
    "plt.show()"
   ]
  },
  {
   "cell_type": "code",
   "execution_count": 12,
   "id": "d794b64b",
   "metadata": {},
   "outputs": [],
   "source": [
    "LSTAT_Feature_polynomial = np.multiply(LSTAT_features,LSTAT_features)\n"
   ]
  },
  {
   "cell_type": "code",
   "execution_count": 13,
   "id": "aa76de2b",
   "metadata": {},
   "outputs": [],
   "source": [
    "aaaaa = np.ones((len(LSTAT_features),2))\n",
    "f1 = np.insert(aaaa,1,LSTAT_features,axis = 1)\n",
    "f1 = np.insert(f1,2,LSTAT_Feature_polynomial,axis = 1)\n",
    "f1 = np.delete(f1,3,1)\n"
   ]
  },
  {
   "cell_type": "code",
   "execution_count": 14,
   "id": "e1311bf2",
   "metadata": {},
   "outputs": [],
   "source": [
    "polyweights = calculate_weights(f1,labels)\n",
    "pre = polyweights[0] + polyweights[1]*x + polyweights[2]*np.multiply(x,x)\n"
   ]
  },
  {
   "cell_type": "code",
   "execution_count": 15,
   "id": "abf9a617",
   "metadata": {},
   "outputs": [
    {
     "data": {
      "image/png": "[encoded data removed]",
      "text/plain": [
       "<Figure size 432x288 with 1 Axes>"
      ]
     },
     "metadata": {
      "needs_background": "light"
     },
     "output_type": "display_data"
    }
   ],
   "source": [
    "plt.plot(x, pre, color='#58b970', label='Regression Line')\n",
    "plt.scatter(features[:,12], labels, c='#ef5423', label='data points')\n",
    "plt.xlabel('LSTAT')\n",
    "plt.ylabel('Prices in boston')\n",
    "plt.legend()\n",
    "plt.show()"
   ]
  },
  {
   "cell_type": "code",
   "execution_count": 28,
   "id": "ddbb3a1c",
   "metadata": {},
   "outputs": [],
   "source": [
    "poly_predicted_at_LSTAT = polyweights[0] + polyweights[1]*LSTAT_features + polyweights[2]*LSTAT_Feature_polynomial\n",
    "lin_predicted_at_LSTAT = weights[0] + weights[1]*LSTAT_features \n",
    "pre = np.array([poly_predicted_at_LSTAT])\n",
    "y = np.array([lin_predicted_at_LSTAT])"
   ]
  },
  {
   "cell_type": "code",
   "execution_count": 32,
   "id": "f9e5435f",
   "metadata": {},
   "outputs": [],
   "source": [
    "MSE_poly = mean_squared_error(pre.T,labels)\n",
    "MSE_lin = mean_squared_error(y.T,labels)"
   ]
  },
  {
   "cell_type": "code",
   "execution_count": 36,
   "id": "9ec89075",
   "metadata": {},
   "outputs": [
    {
     "data": {
      "text/plain": [
       "array([[38.48296723]])"
      ]
     },
     "execution_count": 36,
     "metadata": {},
     "output_type": "execute_result"
    }
   ],
   "source": [
    "MSE_lin"
   ]
  },
  {
   "cell_type": "code",
   "execution_count": 35,
   "id": "afada293",
   "metadata": {},
   "outputs": [
    {
     "data": {
      "text/plain": [
       "array([[30.33052008]])"
      ]
     },
     "execution_count": 35,
     "metadata": {},
     "output_type": "execute_result"
    }
   ],
   "source": [
    "MSE_poly"
   ]
  },
  {
   "cell_type": "code",
   "execution_count": 37,
   "id": "438e73a2",
   "metadata": {},
   "outputs": [
    {
     "data": {
      "text/plain": [
       "array([[34.55384088],\n",
       "       [-0.95004935]])"
      ]
     },
     "execution_count": 37,
     "metadata": {},
     "output_type": "execute_result"
    }
   ],
   "source": [
    "weights"
   ]
  },
  {
   "cell_type": "code",
   "execution_count": 38,
   "id": "b450f4a2",
   "metadata": {},
   "outputs": [
    {
     "data": {
      "text/plain": [
       "array([[42.86200733],\n",
       "       [-2.3328211 ],\n",
       "       [ 0.04354689]])"
      ]
     },
     "execution_count": 38,
     "metadata": {},
     "output_type": "execute_result"
    }
   ],
   "source": [
    "polyweights"
   ]
  },
  {
   "cell_type": "code",
   "execution_count": null,
   "id": "f9b00bcf",
   "metadata": {},
   "outputs": [],
   "source": []
  }
 ],
 "metadata": {
  "kernelspec": {
   "display_name": "Python 3 (ipykernel)",
   "language": "python",
   "name": "python3"
  },
  "language_info": {
   "codemirror_mode": {
    "name": "ipython",
    "version": 3
   },
   "file_extension": ".py",
   "mimetype": "text/x-python",
   "name": "python",
   "nbconvert_exporter": "python",
   "pygments_lexer": "ipython3",
   "version": "3.10.0"
  }
 },
 "nbformat": 4,
 "nbformat_minor": 5
}
